{
 "cells": [
  {
   "cell_type": "code",
   "execution_count": null,
   "metadata": {
    "collapsed": false
   },
   "outputs": [],
   "source": [
    "using PyPlot, PyCall\n",
    "@pyimport scipy.special as scipy_special"
   ]
  },
  {
   "cell_type": "markdown",
   "metadata": {},
   "source": [
    "### Signal-to-noise ratios to plot"
   ]
  },
  {
   "cell_type": "code",
   "execution_count": null,
   "metadata": {
    "collapsed": false
   },
   "outputs": [],
   "source": [
    "SNRs_dB = -10:30\n",
    "SNRs = 10.^(SNRs_dB/10)\n",
    "longterm_rates = (1/log(2))*exp(1./SNRs + log(scipy_special.exp1(1./SNRs)))\n",
    "longterm_rates_upper_bound = log2(1 + SNRs)\n",
    "longterm_rates_lower_bound = 0.5*log2(1 + 2*SNRs);"
   ]
  },
  {
   "cell_type": "code",
   "execution_count": null,
   "metadata": {
    "collapsed": false
   },
   "outputs": [],
   "source": [
    "plot(SNRs_dB, longterm_rates, \"b\", label=\"True longterm rates\")\n",
    "plot(SNRs_dB, longterm_rates_upper_bound, \"r\", label=\"Upper bound\")\n",
    "plot(SNRs_dB, longterm_rates_lower_bound, \"k\", label=\"Lower bound\")\n",
    "title(\"Longterm rates compared to bounds\")\n",
    "xlabel(\"Signal-to-noise ratio [dB]\")\n",
    "legend(loc=\"best\")"
   ]
  },
  {
   "cell_type": "code",
   "execution_count": null,
   "metadata": {
    "collapsed": true
   },
   "outputs": [],
   "source": []
  }
 ],
 "metadata": {
  "kernelspec": {
   "display_name": "Julia 0.3.7",
   "language": "julia",
   "name": "julia 0.3"
  },
  "language_info": {
   "name": "julia",
   "version": "0.3.7"
  }
 },
 "nbformat": 4,
 "nbformat_minor": 0
}

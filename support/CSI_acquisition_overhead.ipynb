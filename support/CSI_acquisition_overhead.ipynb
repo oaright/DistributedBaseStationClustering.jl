{
 "cells": [
  {
   "cell_type": "markdown",
   "metadata": {},
   "source": [
    "# CSI acquisition overhead for symmetric network with equi-sized coalitions"
   ]
  },
  {
   "cell_type": "code",
   "execution_count": null,
   "metadata": {
    "collapsed": false
   },
   "outputs": [],
   "source": [
    "using PyPlot"
   ]
  },
  {
   "cell_type": "markdown",
   "metadata": {},
   "source": [
    "## Scenario definition"
   ]
  },
  {
   "cell_type": "code",
   "execution_count": null,
   "metadata": {
    "collapsed": false
   },
   "outputs": [],
   "source": [
    "I = 10; Kc = 2\n",
    "M = 4; N = 2\n",
    "d = 1;\n",
    "vs_kmh = [5, 30, 50, 90]; # Speeds in [km/h]\n",
    "\n",
    "fc = 2e9; # Carrier frequency [Hz]\n",
    "Wc = 100e3; # Coherence bandwith in [Hz]"
   ]
  },
  {
   "cell_type": "markdown",
   "metadata": {},
   "source": [
    "## Simulation stuff"
   ]
  },
  {
   "cell_type": "code",
   "execution_count": null,
   "metadata": {
    "collapsed": false
   },
   "outputs": [],
   "source": [
    "vs = 1e3/3600*vs_kmh; # in [m/s]\n",
    "λ = 300e6/fc; # Wavelength [m]\n",
    "fds = vs/(λ*Wc); # normalized Doppler spreads\n",
    "Tcs = ceil(1./(2fds))"
   ]
  },
  {
   "cell_type": "markdown",
   "metadata": {},
   "source": [
    "## Orthogonal clustering"
   ]
  },
  {
   "cell_type": "code",
   "execution_count": null,
   "metadata": {
    "collapsed": false,
    "scrolled": false
   },
   "outputs": [],
   "source": [
    "subplot(1, 2, 1)\n",
    "α(P, Tc) = max(0, 1./P - (1/Tc)*((I./P)*(M + Kc*(N + d)) + (I./P).^2*Kc*M))\n",
    "Ps = linspace(1,I)\n",
    "for idx = 1:length(Tcs)\n",
    "    Tc = Tcs[idx]; v_kmh = vs_kmh[idx]\n",
    "    plot(Ps, α(Ps, Tc), label=string(\"v = \", v_kmh, \" km/h\"))\n",
    "end\n",
    "title(\"No Spectrum Reuse\")\n",
    "xlabel(L\"Number of coalitions $P$\")\n",
    "ylabel(L\"Pre-log factor $\\alpha(P)$\")\n",
    "ylim(0,1)\n",
    "legend(loc=\"best\")\n",
    "\n",
    "subplot(1, 2, 2)\n",
    "α(P, Tc) = max(0, 1 - (1/Tc)*(I*(M + Kc*(N + d)) + (I./P).^2*Kc*M))\n",
    "Ps = linspace(1,I)\n",
    "for idx = 1:length(Tcs)\n",
    "    Tc = Tcs[idx]; v_kmh = vs_kmh[idx]\n",
    "    plot(Ps, α(Ps, Tc), label=string(\"v = \", v_kmh, \" km/h\"))\n",
    "end\n",
    "title(\"Full Spectrum Reuse\")\n",
    "xlabel(L\"Number of coalitions $P$\")\n",
    "ylim(0,1)\n",
    "legend(loc=\"best\")\n",
    "\n",
    "suptitle(\"Overhead for symmetric network with equi-sized coalitions\")"
   ]
  },
  {
   "cell_type": "code",
   "execution_count": null,
   "metadata": {
    "collapsed": false
   },
   "outputs": [],
   "source": [
    "Tcs"
   ]
  },
  {
   "cell_type": "code",
   "execution_count": null,
   "metadata": {
    "collapsed": true
   },
   "outputs": [],
   "source": []
  }
 ],
 "metadata": {
  "kernelspec": {
   "display_name": "Julia 0.3.6",
   "language": "julia",
   "name": "julia 0.3"
  },
  "language_info": {
   "name": "julia",
   "version": "0.3.6"
  }
 },
 "nbformat": 4,
 "nbformat_minor": 0
}

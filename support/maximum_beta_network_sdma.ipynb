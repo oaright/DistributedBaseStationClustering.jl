{
 "cells": [
  {
   "cell_type": "markdown",
   "metadata": {},
   "source": [
    "# Calculate maximum beta_network_sdma, given full IA feasible clusters"
   ]
  },
  {
   "cell_type": "code",
   "execution_count": 11,
   "metadata": {
    "collapsed": false
   },
   "outputs": [
    {
     "name": "stdout",
     "output_type": "stream",
     "text": [
      "432.0\n",
      "0.8271999999999999\n"
     ]
    }
   ],
   "source": [
    "I = 16; Kc = 1\n",
    "M = 4; N = 2; d = 1\n",
    "num_coherence_symbols = 2500\n",
    "cluster_size = 5\n",
    "\n",
    "# Number of symbols needed for CSI acquisition in one cluster of size cluster_size\n",
    "sum_M = 0\n",
    "for i in 1:cluster_size\n",
    "    sum_M += M\n",
    "end\n",
    "sum_N = 0; quad_sum_M = 0; sum_d = 0\n",
    "for i in 1:cluster_size\n",
    "    for k in 1:Kc\n",
    "        # UL channel training\n",
    "        sum_N += N\n",
    "\n",
    "        # Each MS feeds back all its channels. The feedback matrix thus\n",
    "        # requires sum_M symbol intervals, assuming that M >= N (see notes).\n",
    "        quad_sum_M += sum_M\n",
    "\n",
    "        # DL effective channel training.\n",
    "        sum_d += d\n",
    "    end\n",
    "end\n",
    "Lcsi_cluster = sum_M + sum_N + quad_sum_M + sum_d\n",
    "\n",
    "# Total number of symbols needed for orthogonal CSI acquisition over clusters\n",
    "Lcsi_tot = Lcsi_cluster*I/cluster_size\n",
    "\n",
    "# Corresponding min/max betas\n",
    "beta_cluster_sdma_min = Lcsi_tot/num_coherence_symbols\n",
    "beta_network_sdma_max = 1 - beta_cluster_sdma_min\n",
    "\n",
    "println(Lcsi_tot)\n",
    "println(beta_network_sdma_max)"
   ]
  },
  {
   "cell_type": "code",
   "execution_count": null,
   "metadata": {
    "collapsed": true
   },
   "outputs": [],
   "source": []
  }
 ],
 "metadata": {
  "kernelspec": {
   "display_name": "Julia 0.3.10",
   "language": "julia",
   "name": "julia-0.3"
  },
  "language_info": {
   "name": "julia",
   "version": "0.3.10"
  }
 },
 "nbformat": 4,
 "nbformat_minor": 0
}

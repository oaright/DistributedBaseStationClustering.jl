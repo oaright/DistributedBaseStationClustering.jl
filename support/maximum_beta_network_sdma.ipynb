{
 "cells": [
  {
   "cell_type": "markdown",
   "metadata": {},
   "source": [
    "# Calculate maximum beta_network_sdma, given full IA feasible clusters"
   ]
  },
  {
   "cell_type": "code",
   "execution_count": 1,
   "metadata": {
    "collapsed": false
   },
   "outputs": [
    {
     "name": "stdout",
     "output_type": "stream",
     "text": [
      "max_cluster_size = ifloor(((M + N) - d) / (Kc * d)) => 4\n",
      "num_max_size_clusters = div(I,max_cluster_size) => 3\n",
      "remaining_cluster_size = mod(I,max_cluster_size) => 0\n",
      "Lcsi_tot = num_max_size_clusters * L_max_size + L_remaining => 936\n",
      "beta_cluster_sdma_min = Lcsi_tot / num_coherence_symbols => 0.3466666666666667\n",
      "beta_network_sdma_max = 1 - beta_cluster_sdma_min => 0.6533333333333333\n"
     ]
    },
    {
     "data": {
      "text/plain": [
       "0.6533333333333333"
      ]
     },
     "execution_count": 1,
     "metadata": {},
     "output_type": "execute_result"
    }
   ],
   "source": [
    "I = 12; Kc = 2\n",
    "M = 8; N = 2; d = 1\n",
    "num_coherence_symbols = 2700\n",
    "@show max_cluster_size = ifloor((M + N - d)/(Kc*d))\n",
    "@show num_max_size_clusters = div(I, max_cluster_size)\n",
    "@show remaining_cluster_size = mod(I, max_cluster_size)\n",
    "\n",
    "L_max_size = max_cluster_size*(M + Kc*(N + d)) + max_cluster_size^2*Kc*M\n",
    "L_remaining = remaining_cluster_size*(M + Kc*(N + d)) + remaining_cluster_size^2*Kc*M\n",
    "\n",
    "# Total number of symbols needed for orthogonal CSI acquisition over clusters\n",
    "@show Lcsi_tot = num_max_size_clusters*L_max_size + L_remaining\n",
    "\n",
    "# Corresponding min/max betas\n",
    "@show beta_cluster_sdma_min = Lcsi_tot/num_coherence_symbols\n",
    "@show beta_network_sdma_max = 1 - beta_cluster_sdma_min"
   ]
  },
  {
   "cell_type": "code",
   "execution_count": null,
   "metadata": {
    "collapsed": true
   },
   "outputs": [],
   "source": []
  }
 ],
 "metadata": {
  "kernelspec": {
   "display_name": "Julia 0.3.11",
   "language": "julia",
   "name": "julia-0.3"
  },
  "language_info": {
   "file_extension": ".jl",
   "mimetype": "application/julia",
   "name": "julia",
   "version": "0.3.11"
  }
 },
 "nbformat": 4,
 "nbformat_minor": 0
}
